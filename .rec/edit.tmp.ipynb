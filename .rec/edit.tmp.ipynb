{
 "cells": [
  {
   "cell_type": "code",
   "execution_count": 8,
   "id": "00466d5b",
   "metadata": {},
   "outputs": [
    {
     "name": "stderr",
     "output_type": "stream",
     "text": [
      "version mismatch: detected: RasterFormatV02, requested: FormatV04\n"
     ]
    },
    {
     "name": "stderr",
     "output_type": "stream",
     "text": [
      "/Users/ugursahin/miniforge3/envs/SOPA/lib/python3.10/site-packages/zarr/creation.py:614: UserWarning: ignoring keyword argument 'read_only'\n",
      "  compressor, fill_value = _kwargs_compat(compressor, fill_value, kwargs)\n",
      "/Users/ugursahin/miniforge3/envs/SOPA/lib/python3.10/site-packages/zarr/creation.py:614: UserWarning: ignoring keyword argument 'read_only'\n",
      "  compressor, fill_value = _kwargs_compat(compressor, fill_value, kwargs)\n",
      "/Users/ugursahin/miniforge3/envs/SOPA/lib/python3.10/site-packages/zarr/creation.py:614: UserWarning: ignoring keyword argument 'read_only'\n",
      "  compressor, fill_value = _kwargs_compat(compressor, fill_value, kwargs)\n",
      "/Users/ugursahin/miniforge3/envs/SOPA/lib/python3.10/site-packages/zarr/creation.py:614: UserWarning: ignoring keyword argument 'read_only'\n",
      "  compressor, fill_value = _kwargs_compat(compressor, fill_value, kwargs)\n",
      "/Users/ugursahin/miniforge3/envs/SOPA/lib/python3.10/site-packages/zarr/creation.py:614: UserWarning: ignoring keyword argument 'read_only'\n",
      "  compressor, fill_value = _kwargs_compat(compressor, fill_value, kwargs)\n",
      "/Users/ugursahin/miniforge3/envs/SOPA/lib/python3.10/site-packages/zarr/creation.py:614: UserWarning: ignoring keyword argument 'read_only'\n",
      "  compressor, fill_value = _kwargs_compat(compressor, fill_value, kwargs)\n",
      "version mismatch: detected: RasterFormatV02, requested: FormatV04\n",
      "/Users/ugursahin/miniforge3/envs/SOPA/lib/python3.10/site-packages/zarr/creation.py:614: UserWarning: ignoring keyword argument 'read_only'\n",
      "  compressor, fill_value = _kwargs_compat(compressor, fill_value, kwargs)\n",
      "/Users/ugursahin/miniforge3/envs/SOPA/lib/python3.10/site-packages/zarr/creation.py:614: UserWarning: ignoring keyword argument 'read_only'\n",
      "  compressor, fill_value = _kwargs_compat(compressor, fill_value, kwargs)\n",
      "/Users/ugursahin/miniforge3/envs/SOPA/lib/python3.10/site-packages/zarr/creation.py:614: UserWarning: ignoring keyword argument 'read_only'\n",
      "  compressor, fill_value = _kwargs_compat(compressor, fill_value, kwargs)\n",
      "/Users/ugursahin/miniforge3/envs/SOPA/lib/python3.10/site-packages/zarr/creation.py:614: UserWarning: ignoring keyword argument 'read_only'\n",
      "  compressor, fill_value = _kwargs_compat(compressor, fill_value, kwargs)\n",
      "/Users/ugursahin/miniforge3/envs/SOPA/lib/python3.10/site-packages/zarr/creation.py:614: UserWarning: ignoring keyword argument 'read_only'\n",
      "  compressor, fill_value = _kwargs_compat(compressor, fill_value, kwargs)\n",
      "version mismatch: detected: RasterFormatV02, requested: FormatV04\n",
      "/Users/ugursahin/miniforge3/envs/SOPA/lib/python3.10/site-packages/zarr/creation.py:614: UserWarning: ignoring keyword argument 'read_only'\n",
      "  compressor, fill_value = _kwargs_compat(compressor, fill_value, kwargs)\n",
      "/Users/ugursahin/miniforge3/envs/SOPA/lib/python3.10/site-packages/zarr/creation.py:614: UserWarning: ignoring keyword argument 'read_only'\n",
      "  compressor, fill_value = _kwargs_compat(compressor, fill_value, kwargs)\n",
      "/Users/ugursahin/miniforge3/envs/SOPA/lib/python3.10/site-packages/zarr/creation.py:614: UserWarning: ignoring keyword argument 'read_only'\n",
      "  compressor, fill_value = _kwargs_compat(compressor, fill_value, kwargs)\n",
      "/Users/ugursahin/miniforge3/envs/SOPA/lib/python3.10/site-packages/zarr/creation.py:614: UserWarning: ignoring keyword argument 'read_only'\n",
      "  compressor, fill_value = _kwargs_compat(compressor, fill_value, kwargs)\n",
      "/Users/ugursahin/miniforge3/envs/SOPA/lib/python3.10/site-packages/zarr/creation.py:614: UserWarning: ignoring keyword argument 'read_only'\n",
      "  compressor, fill_value = _kwargs_compat(compressor, fill_value, kwargs)\n"
     ]
    },
    {
     "data": {
      "text/plain": [
       "SpatialData object, with associated Zarr store: /Volumes/ProstateCancerEvo_SpatialAnalysis/dbs/Ongoing/Region_2_Xenium_Phen_HE_Integrated.V2.ongoing.zarr\n",
       "├── Images\n",
       "│     ├── 'HE_Image': DataTree[cyx] (3, 14052, 23906), (3, 7026, 11953), (3, 3513, 5977), (3, 1757, 2989), (3, 878, 1494), (3, 439, 747)\n",
       "│     ├── 'PhenoCycler_Image': DataTree[cyx] (25, 12563, 22914), (25, 6281, 11457), (25, 3140, 5728), (25, 1570, 2864), (25, 785, 1432)\n",
       "│     └── 'Xenium_Image': DataTree[cyx] (4, 34103, 54036), (4, 17051, 27018), (4, 8525, 13509), (4, 4262, 6754), (4, 2131, 3377)\n",
       "├── Points\n",
       "│     └── 'transcripts': DataFrame with shape: (<Delayed>, 13) (3D points)\n",
       "├── Shapes\n",
       "│     ├── 'cell_boundaries': GeoDataFrame shape: (299769, 1) (2D shapes)\n",
       "│     ├── 'cell_boundaries_Backup': GeoDataFrame shape: (299769, 1) (2D shapes)\n",
       "│     └── 'nucleus_boundaries': GeoDataFrame shape: (277431, 1) (2D shapes)\n",
       "└── Tables\n",
       "      ├── 'GeneTranscripts_XStockC': AnnData (299769, 5099)\n",
       "      ├── 'GeneTranscripts_XStockP': AnnData (299769, 5101)\n",
       "      ├── 'GeneTranscripts_XStock_Backup': AnnData (299769, 5101)\n",
       "      ├── 'GeneTranscripts_XStock_Native': AnnData (299769, 5101)\n",
       "      └── 'Proteins_PhenoCycler_byXStock': AnnData (299769, 25)\n",
       "with coordinate systems:\n",
       "    ▸ 'global', with elements:\n",
       "        HE_Image (Images), PhenoCycler_Image (Images), Xenium_Image (Images), transcripts (Points), cell_boundaries (Shapes), cell_boundaries_Backup (Shapes), nucleus_boundaries (Shapes)\n",
       "    ▸ 'pixels', with elements:\n",
       "        HE_Image (Images), PhenoCycler_Image (Images)"
      ]
     },
     "execution_count": 8,
     "metadata": {},
     "output_type": "execute_result"
    }
   ],
   "source": [
    "import sopa\n",
    "import spatialdata\n",
    "\n",
    "sdata = spatialdata.read_zarr(\"/Volumes/ProstateCancerEvo_SpatialAnalysis/dbs/Ongoing/Region_2_Xenium_Phen_HE_Integrated.V2.ongoing.zarr\")\n",
    "sdata"
   ]
  },
  {
   "cell_type": "code",
   "execution_count": 9,
   "id": "5be920a5",
   "metadata": {},
   "outputs": [],
   "source": [
    "import scanpy as sc\n",
    "adata_stock = sc.read_h5ad(\"/Volumes/ProstateCancerEvo_SpatialAnalysis/dbs/Ongoing/Region_2_Xenium_Phen_HE_Integrated.Xenium_Stock_Table.h5ad\") "
   ]
  },
  {
   "cell_type": "code",
   "execution_count": 13,
   "id": "494ecf9b",
   "metadata": {},
   "outputs": [
    {
     "name": "stderr",
     "output_type": "stream",
     "text": [
      "/Users/ugursahin/miniforge3/envs/SOPA/lib/python3.10/site-packages/spatialdata/_core/_elements.py:125: UserWarning: Key `GeneTranscripts_XStock_Native` already exists. Overwriting it in-memory.\n",
      "  self._check_key(key, self.keys(), self._shared_keys)\n",
      "/Users/ugursahin/miniforge3/envs/SOPA/lib/python3.10/site-packages/spatialdata/_core/_elements.py:125: UserWarning: Key `GeneTranscripts_XStock_Backup` already exists. Overwriting it in-memory.\n",
      "  self._check_key(key, self.keys(), self._shared_keys)\n",
      "/Users/ugursahin/miniforge3/envs/SOPA/lib/python3.10/site-packages/spatialdata/_core/_elements.py:125: UserWarning: Key `GeneTranscripts_XStockP` already exists. Overwriting it in-memory.\n",
      "  self._check_key(key, self.keys(), self._shared_keys)\n"
     ]
    }
   ],
   "source": [
    "sdata.tables[\"GeneTranscripts_XStock_Native\"] = adata_stock\n",
    "sdata.tables[\"GeneTranscripts_XStock_Backup\"] = adata_stock\n",
    "sdata.tables[\"GeneTranscripts_XStockP\"] = adata_stock"
   ]
  },
  {
   "cell_type": "code",
   "execution_count": 25,
   "id": "1b8fb31b",
   "metadata": {},
   "outputs": [
    {
     "data": {
      "text/plain": [
       "aaaaaaaa-1    aaaaealn-1\n",
       "aaaaaaab-1    aaaaeaol-1\n",
       "aaaaaaac-1    aaabgafi-1\n",
       "aaaaaaad-1    aaabhken-1\n",
       "aaaaaaae-1    aaabhmik-1\n",
       "                 ...    \n",
       "aaaejcpe-1    oilpooan-1\n",
       "aaaejcpf-1    oimajkbj-1\n",
       "aaaejcpg-1    oimalhbk-1\n",
       "aaaejcph-1    oimaomgd-1\n",
       "aaaejcpi-1    oimbdlnd-1\n",
       "Name: cell_id, Length: 299769, dtype: object"
      ]
     },
     "execution_count": 25,
     "metadata": {},
     "output_type": "execute_result"
    }
   ],
   "source": [
    "sdata.tables[\"Proteins_PhenoCycler_byXStock\"].obs[\"cell_id\"]"
   ]
  },
  {
   "cell_type": "code",
   "execution_count": 30,
   "id": "6fcc1dfc",
   "metadata": {},
   "outputs": [],
   "source": [
    "sdata.tables[\"Proteins_PhenoCycler_byXStock\"].obs[\"cell_id\"] = adata_stock.obs[\"cell_id\"].to_list()"
   ]
  },
  {
   "cell_type": "code",
   "execution_count": 27,
   "id": "69be1925",
   "metadata": {},
   "outputs": [
    {
     "data": {
      "text/plain": [
       "aaaaaaaa-1    aaaaealn-1\n",
       "aaaaaaab-1    aaaaeaol-1\n",
       "aaaaaaac-1    aaabgafi-1\n",
       "aaaaaaad-1    aaabhken-1\n",
       "aaaaaaae-1    aaabhmik-1\n",
       "                 ...    \n",
       "aaaejcpe-1    oilpooan-1\n",
       "aaaejcpf-1    oimajkbj-1\n",
       "aaaejcpg-1    oimalhbk-1\n",
       "aaaejcph-1    oimaomgd-1\n",
       "aaaejcpi-1    oimbdlnd-1\n",
       "Name: cell_id, Length: 299769, dtype: object"
      ]
     },
     "execution_count": 27,
     "metadata": {},
     "output_type": "execute_result"
    }
   ],
   "source": [
    "sdata.tables[\"Proteins_PhenoCycler_byXStock\"].obs[\"cell_id\"]"
   ]
  },
  {
   "cell_type": "code",
   "execution_count": 32,
   "id": "271a0f28",
   "metadata": {},
   "outputs": [
    {
     "data": {
      "text/plain": [
       "0         aaaaealn-1\n",
       "1         aaaaeaol-1\n",
       "2         aaabgafi-1\n",
       "3         aaabhken-1\n",
       "4         aaabhmik-1\n",
       "             ...    \n",
       "299764    oilpooan-1\n",
       "299765    oimajkbj-1\n",
       "299766    oimalhbk-1\n",
       "299767    oimaomgd-1\n",
       "299768    oimbdlnd-1\n",
       "Name: cell_id, Length: 299769, dtype: object"
      ]
     },
     "execution_count": 32,
     "metadata": {},
     "output_type": "execute_result"
    }
   ],
   "source": [
    "sdata.tables[\"Proteins_PhenoCycler_byXStock\"].obs[\"cell_id\"].index = adata_stock.obs[\"cell_id\"].index\n",
    "\n",
    "sdata.tables[\"Proteins_PhenoCycler_byXStock\"].obs[\"cell_id\"]"
   ]
  },
  {
   "cell_type": "code",
   "execution_count": 42,
   "id": "777d830a",
   "metadata": {},
   "outputs": [],
   "source": [
    "sdata.tables[\"Proteins_PhenoCycler_byXStock\"].obs[\"area\"].index = adata_stock.obs[\"cell_id\"].to_list()"
   ]
  },
  {
   "cell_type": "code",
   "execution_count": 43,
   "id": "e6098c68",
   "metadata": {},
   "outputs": [
    {
     "data": {
      "text/plain": [
       "aaaaealn-1     60.170940\n",
       "aaaaeaol-1     62.201836\n",
       "aaabgafi-1    190.106175\n",
       "aaabhken-1     66.559316\n",
       "aaabhmik-1     44.389092\n",
       "                 ...    \n",
       "oilpooan-1      5.576963\n",
       "oimajkbj-1      3.838074\n",
       "oimalhbk-1     21.470998\n",
       "oimaomgd-1     56.491465\n",
       "oimbdlnd-1      5.034445\n",
       "Name: area, Length: 299769, dtype: float64"
      ]
     },
     "execution_count": 43,
     "metadata": {},
     "output_type": "execute_result"
    }
   ],
   "source": [
    "sdata.tables[\"Proteins_PhenoCycler_byXStock\"].obs[\"area\"]"
   ]
  },
  {
   "cell_type": "code",
   "execution_count": 40,
   "id": "275dabf9",
   "metadata": {},
   "outputs": [
    {
     "data": {
      "text/plain": [
       "AnnData object with n_obs × n_vars = 299769 × 25\n",
       "    obs: 'region', 'slide', 'cell_id', 'area'\n",
       "    uns: 'sopa_attrs', 'spatialdata_attrs'\n",
       "    obsm: 'spatial'"
      ]
     },
     "execution_count": 40,
     "metadata": {},
     "output_type": "execute_result"
    }
   ],
   "source": [
    "sdata.tables[\"Proteins_PhenoCycler_byXStock\"]"
   ]
  },
  {
   "cell_type": "code",
   "execution_count": 45,
   "id": "4008d138",
   "metadata": {},
   "outputs": [
    {
     "data": {
      "text/plain": [
       "0         aaaaealn-1\n",
       "1         aaaaeaol-1\n",
       "2         aaabgafi-1\n",
       "3         aaabhken-1\n",
       "4         aaabhmik-1\n",
       "             ...    \n",
       "299764    oilpooan-1\n",
       "299765    oimajkbj-1\n",
       "299766    oimalhbk-1\n",
       "299767    oimaomgd-1\n",
       "299768    oimbdlnd-1\n",
       "Name: cell_id, Length: 299769, dtype: object"
      ]
     },
     "execution_count": 45,
     "metadata": {},
     "output_type": "execute_result"
    }
   ],
   "source": [
    "sdata.tables[\"GeneTranscripts_XStock_Native\"].obs[\"cell_id\"]"
   ]
  },
  {
   "cell_type": "code",
   "execution_count": 46,
   "id": "2007e290",
   "metadata": {},
   "outputs": [
    {
     "name": "stdout",
     "output_type": "stream",
     "text": [
      "\u001b[34mINFO    \u001b[0m The SpatialData object is not self-contained \u001b[1m(\u001b[0mi.e. it contains some elements that are Dask-backed from    \n",
      "         locations outside                                                                                         \n",
      "         \u001b[35m/Volumes/ProstateCancerEvo_SpatialAnalysis/dbs/Ongoing/\u001b[0m\u001b[95mRegion_2_Xenium_Phen_HE_Integrated.V3.ongoing.zarr\u001b[0m\u001b[1m)\u001b[0m\n",
      "         . Please see the documentation of `\u001b[1;35mis_self_contained\u001b[0m\u001b[1m(\u001b[0m\u001b[1m)\u001b[0m` to understand the implications of working with    \n",
      "         SpatialData objects that are not self-contained.                                                          \n",
      "\u001b[34mINFO    \u001b[0m The Zarr backing store has been changed from                                                              \n",
      "         \u001b[35m/Volumes/ProstateCancerEvo_SpatialAnalysis/dbs/Ongoing/\u001b[0m\u001b[95mRegion_2_Xenium_Phen_HE_Integrated.V2.ongoing.zarr\u001b[0m \n",
      "         the new file path:                                                                                        \n",
      "         \u001b[35m/Volumes/ProstateCancerEvo_SpatialAnalysis/dbs/Ongoing/\u001b[0m\u001b[95mRegion_2_Xenium_Phen_HE_Integrated.V3.ongoing.zarr\u001b[0m \n"
     ]
    }
   ],
   "source": [
    "sdata.write(\"/Volumes/ProstateCancerEvo_SpatialAnalysis/dbs/Ongoing/Region_2_Xenium_Phen_HE_Integrated.V3.ongoing.zarr\")"
   ]
  }
 ],
 "metadata": {
  "kernelspec": {
   "display_name": "SOPA",
   "language": "python",
   "name": "myenv"
  },
  "language_info": {
   "codemirror_mode": {
    "name": "ipython",
    "version": 3
   },
   "file_extension": ".py",
   "mimetype": "text/x-python",
   "name": "python",
   "nbconvert_exporter": "python",
   "pygments_lexer": "ipython3",
   "version": "3.10.14"
  }
 },
 "nbformat": 4,
 "nbformat_minor": 5
}
