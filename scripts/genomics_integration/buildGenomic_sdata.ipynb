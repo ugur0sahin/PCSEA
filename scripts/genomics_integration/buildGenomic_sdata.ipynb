{
 "cells": [
  {
   "cell_type": "markdown",
   "id": "0ddf235c",
   "metadata": {},
   "source": [
    "## Open SVS file and define Tiles !"
   ]
  },
  {
   "cell_type": "code",
   "execution_count": 40,
   "id": "944d8502",
   "metadata": {},
   "outputs": [],
   "source": [
    "import sopa\n",
    "import spatialdata\n",
    "import spatialdata_plot\n",
    "\n",
    "\n",
    "sdata_genomics = sopa.io.wsi(\"/Users/ugursahin/Downloads/_20221020095443.ome.tif\")"
   ]
  },
  {
   "cell_type": "code",
   "execution_count": null,
   "id": "94e74db9",
   "metadata": {},
   "outputs": [],
   "source": [
    "import json\n",
    "import numpy as np\n",
    "import pandas as pd\n",
    "import spatialdata as sd\n",
    "import geopandas as gpd\n",
    "import fiona\n",
    "\n",
    "from geopandas import GeoDataFrame\n",
    "from shapely import Polygon\n",
    "from spatialdata.models import ShapesModel\n",
    "from spatialdata.transformations import Identity\n",
    "\n",
    "import spatialdata_plot  # noqa: F401\n",
    "\n",
    "with open(\"/Users/ugursahin/Downloads/cna_all_tiles_20221020095443.geojson\", \"r\") as f:\n",
    "    data = json.load(f)\n",
    "\n",
    "#pd.DataFrame(gdf[\"geometry\"].to_dict())\n",
    "# shape0 = np.array([df[0].to_list(), df[1].to_list() ])\n",
    "#pd.DataFrame(gdf[\"geometry\"].to_list())\n",
    "\n",
    "# def numpy_to_shapely(x: np.array) -> Polygon:\n",
    "#     return Polygon(list(map(tuple, x.T)))\n",
    "\n",
    "\n",
    "# gdf = GeoDataFrame({\"geometry\": [numpy_to_shapely(shape0)]})\n",
    "# gdf = ShapesModel.parse(gdf, transformations={\"aligned\": Identity()})\n",
    "\n",
    "gdf = gpd.GeoDataFrame.from_features(data, crs=\"EPSG:4326\")\n",
    "gdf = ShapesModel.parse(gdf, transformations={\"pixels\": Identity()})\n",
    "\n",
    "sdata_genomics.shapes[\"tiles\"] = gdf\n"
   ]
  },
  {
   "cell_type": "code",
   "execution_count": 42,
   "id": "0fda2201",
   "metadata": {},
   "outputs": [
    {
     "data": {
      "text/plain": [
       "<napari_spatialdata._interactive.Interactive at 0x33bb1fdf0>"
      ]
     },
     "execution_count": 42,
     "metadata": {},
     "output_type": "execute_result"
    }
   ],
   "source": [
    "import napari_spatialdata\n",
    "\n",
    "napari_spatialdata.Interactive(sdata_genomics)\n"
   ]
  },
  {
   "cell_type": "code",
   "execution_count": null,
   "id": "a836ad2c",
   "metadata": {},
   "outputs": [
    {
     "name": "stdout",
     "output_type": "stream",
     "text": [
      "\u001b[34mINFO    \u001b[0m The Zarr backing store has been changed from \u001b[3;35mNone\u001b[0m the new file path:                                      \n",
      "         \u001b[35m/Volumes/ProstateCancerEvoMain/dbs/Ongoing/Region2/ARMS/\u001b[0m\u001b[95mRegion2_FULL_TilesAdded.zarr\u001b[0m                      \n"
     ]
    },
    {
     "ename": "",
     "evalue": "",
     "output_type": "error",
     "traceback": [
      "\u001b[1;31mThe Kernel crashed while executing code in the current cell or a previous cell. \n",
      "\u001b[1;31mPlease review the code in the cell(s) to identify a possible cause of the failure. \n",
      "\u001b[1;31mClick <a href='https://aka.ms/vscodeJupyterKernelCrash'>here</a> for more info. \n",
      "\u001b[1;31mView Jupyter <a href='command:jupyter.viewOutput'>log</a> for further details."
     ]
    }
   ],
   "source": [
    "sdata_genomics.write(\"/Volumes/ProstateCancerEvoMain/dbs/Ongoing/Region2/ARMS/Region2_FULL_TilesAdded.zarr\")"
   ]
  }
 ],
 "metadata": {
  "kernelspec": {
   "display_name": "SOPA",
   "language": "python",
   "name": "myenv"
  },
  "language_info": {
   "codemirror_mode": {
    "name": "ipython",
    "version": 3
   },
   "file_extension": ".py",
   "mimetype": "text/x-python",
   "name": "python",
   "nbconvert_exporter": "python",
   "pygments_lexer": "ipython3",
   "version": "3.10.14"
  }
 },
 "nbformat": 4,
 "nbformat_minor": 5
}
