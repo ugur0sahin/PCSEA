{
 "cells": [
  {
   "cell_type": "code",
   "execution_count": 21,
   "id": "d8805142",
   "metadata": {},
   "outputs": [
    {
     "name": "stderr",
     "output_type": "stream",
     "text": [
      "version mismatch: detected: RasterFormatV02, requested: FormatV04\n",
      "/Users/ugursahin/miniforge3/envs/SOPA/lib/python3.10/site-packages/zarr/creation.py:614: UserWarning: ignoring keyword argument 'read_only'\n",
      "  compressor, fill_value = _kwargs_compat(compressor, fill_value, kwargs)\n",
      "/Users/ugursahin/miniforge3/envs/SOPA/lib/python3.10/site-packages/zarr/creation.py:614: UserWarning: ignoring keyword argument 'read_only'\n",
      "  compressor, fill_value = _kwargs_compat(compressor, fill_value, kwargs)\n",
      "/Users/ugursahin/miniforge3/envs/SOPA/lib/python3.10/site-packages/zarr/creation.py:614: UserWarning: ignoring keyword argument 'read_only'\n",
      "  compressor, fill_value = _kwargs_compat(compressor, fill_value, kwargs)\n",
      "/Users/ugursahin/miniforge3/envs/SOPA/lib/python3.10/site-packages/zarr/creation.py:614: UserWarning: ignoring keyword argument 'read_only'\n",
      "  compressor, fill_value = _kwargs_compat(compressor, fill_value, kwargs)\n",
      "/Users/ugursahin/miniforge3/envs/SOPA/lib/python3.10/site-packages/zarr/creation.py:614: UserWarning: ignoring keyword argument 'read_only'\n",
      "  compressor, fill_value = _kwargs_compat(compressor, fill_value, kwargs)\n",
      "/Users/ugursahin/miniforge3/envs/SOPA/lib/python3.10/site-packages/zarr/creation.py:614: UserWarning: ignoring keyword argument 'read_only'\n",
      "  compressor, fill_value = _kwargs_compat(compressor, fill_value, kwargs)\n",
      "version mismatch: detected: RasterFormatV02, requested: FormatV04\n",
      "/Users/ugursahin/miniforge3/envs/SOPA/lib/python3.10/site-packages/zarr/creation.py:614: UserWarning: ignoring keyword argument 'read_only'\n",
      "  compressor, fill_value = _kwargs_compat(compressor, fill_value, kwargs)\n",
      "/Users/ugursahin/miniforge3/envs/SOPA/lib/python3.10/site-packages/zarr/creation.py:614: UserWarning: ignoring keyword argument 'read_only'\n",
      "  compressor, fill_value = _kwargs_compat(compressor, fill_value, kwargs)\n",
      "/Users/ugursahin/miniforge3/envs/SOPA/lib/python3.10/site-packages/zarr/creation.py:614: UserWarning: ignoring keyword argument 'read_only'\n",
      "  compressor, fill_value = _kwargs_compat(compressor, fill_value, kwargs)\n",
      "/Users/ugursahin/miniforge3/envs/SOPA/lib/python3.10/site-packages/zarr/creation.py:614: UserWarning: ignoring keyword argument 'read_only'\n",
      "  compressor, fill_value = _kwargs_compat(compressor, fill_value, kwargs)\n",
      "/Users/ugursahin/miniforge3/envs/SOPA/lib/python3.10/site-packages/zarr/creation.py:614: UserWarning: ignoring keyword argument 'read_only'\n",
      "  compressor, fill_value = _kwargs_compat(compressor, fill_value, kwargs)\n",
      "version mismatch: detected: RasterFormatV02, requested: FormatV04\n",
      "/Users/ugursahin/miniforge3/envs/SOPA/lib/python3.10/site-packages/zarr/creation.py:614: UserWarning: ignoring keyword argument 'read_only'\n",
      "  compressor, fill_value = _kwargs_compat(compressor, fill_value, kwargs)\n",
      "/Users/ugursahin/miniforge3/envs/SOPA/lib/python3.10/site-packages/zarr/creation.py:614: UserWarning: ignoring keyword argument 'read_only'\n",
      "  compressor, fill_value = _kwargs_compat(compressor, fill_value, kwargs)\n",
      "/Users/ugursahin/miniforge3/envs/SOPA/lib/python3.10/site-packages/zarr/creation.py:614: UserWarning: ignoring keyword argument 'read_only'\n",
      "  compressor, fill_value = _kwargs_compat(compressor, fill_value, kwargs)\n",
      "/Users/ugursahin/miniforge3/envs/SOPA/lib/python3.10/site-packages/zarr/creation.py:614: UserWarning: ignoring keyword argument 'read_only'\n",
      "  compressor, fill_value = _kwargs_compat(compressor, fill_value, kwargs)\n",
      "/Users/ugursahin/miniforge3/envs/SOPA/lib/python3.10/site-packages/zarr/creation.py:614: UserWarning: ignoring keyword argument 'read_only'\n",
      "  compressor, fill_value = _kwargs_compat(compressor, fill_value, kwargs)\n"
     ]
    },
    {
     "data": {
      "text/plain": [
       "SpatialData object, with associated Zarr store: /Volumes/ProstateCancerEvo_SpatialAnalysis/dbs/Region_4_Xenium_Phen_HE_Integrated.V1.zarr\n",
       "├── Images\n",
       "│     ├── 'HE': DataTree[cyx] (3, 11074, 24012), (3, 5537, 12006), (3, 2769, 6004), (3, 1385, 3001), (3, 692, 1501), (3, 346, 750)\n",
       "│     ├── 'morphology_focus': DataTree[cyx] (4, 30791, 54044), (4, 15395, 27022), (4, 7697, 13511), (4, 3848, 6755), (4, 1924, 3377)\n",
       "│     └── 'postXenium_5k_H03.ome': DataTree[cyx] (25, 9920, 22866), (25, 4960, 11433), (25, 2480, 5716), (25, 1240, 2858), (25, 620, 1429)\n",
       "├── Points\n",
       "│     ├── 'XeniumMrks': DataFrame with shape: (<Delayed>, 2) (2D points)\n",
       "│     ├── 'Xenium_Lnmks': DataFrame with shape: (<Delayed>, 2) (2D points)\n",
       "│     └── 'transcripts': DataFrame with shape: (<Delayed>, 13) (3D points)\n",
       "├── Shapes\n",
       "│     ├── 'cell_boundaries': GeoDataFrame shape: (310003, 1) (2D shapes)\n",
       "│     └── 'nucleus_boundaries': GeoDataFrame shape: (296757, 1) (2D shapes)\n",
       "└── Tables\n",
       "      └── 'table': AnnData (310003, 5101)\n",
       "with coordinate systems:\n",
       "    ▸ 'global', with elements:\n",
       "        HE (Images), morphology_focus (Images), postXenium_5k_H03.ome (Images), XeniumMrks (Points), Xenium_Lnmks (Points), transcripts (Points), cell_boundaries (Shapes), nucleus_boundaries (Shapes)\n",
       "    ▸ 'pixels', with elements:\n",
       "        HE (Images), postXenium_5k_H03.ome (Images)"
      ]
     },
     "execution_count": 21,
     "metadata": {},
     "output_type": "execute_result"
    }
   ],
   "source": [
    "import sopa\n",
    "import spatialdata\n",
    "\n",
    "Tissue = \"Region4\"\n",
    "path = \"/Volumes/ProstateCancerEvo_SpatialAnalysis/dbs/Region_4_Xenium_Phen_HE_Integrated.V1.zarr\"\n",
    "sdata = spatialdata.read_zarr(path)\n",
    "sdata"
   ]
  },
  {
   "cell_type": "markdown",
   "id": "178ddd08",
   "metadata": {},
   "source": [
    "## Renaming Part (will be excluded from snakemake pipeline)"
   ]
  },
  {
   "cell_type": "code",
   "execution_count": 23,
   "id": "00350bfc",
   "metadata": {},
   "outputs": [
    {
     "name": "stderr",
     "output_type": "stream",
     "text": [
      "/Users/ugursahin/miniforge3/envs/SOPA/lib/python3.10/site-packages/spatialdata/_core/_elements.py:71: UserWarning: Key `HE_Image` already exists. Overwriting it in-memory.\n",
      "  self._check_key(key, self.keys(), self._shared_keys)\n",
      "/Users/ugursahin/miniforge3/envs/SOPA/lib/python3.10/site-packages/spatialdata/_core/_elements.py:71: UserWarning: Key `Xenium_Image` already exists. Overwriting it in-memory.\n",
      "  self._check_key(key, self.keys(), self._shared_keys)\n"
     ]
    }
   ],
   "source": [
    "sdata.images[\"HE_Image\"] = sdata.images[\"HE\"]\n",
    "sdata.images[\"Xenium_Image\"] = sdata.images[\"morphology_focus\"]\n",
    "sdata.images[\"PhenoCycler_Image\"] = sdata.images[\"postXenium_5k_H03.ome\"]\n"
   ]
  },
  {
   "cell_type": "code",
   "execution_count": null,
   "id": "c6f240d3",
   "metadata": {},
   "outputs": [],
   "source": [
    "#sdata.write_element(\"HE_Image\", overwrite=True)\n",
    "#sdata.write_element(\"Xenium_Image\", overwrite=True)\n",
    "#sdata.write_element(\"PhenoCycler_Image\", overwrite=True)"
   ]
  },
  {
   "cell_type": "code",
   "execution_count": null,
   "id": "2adca903",
   "metadata": {},
   "outputs": [],
   "source": [
    "del sdata.images[\"HE\"]\n",
    "del sdata.images[\"morphology_focus\"]\n",
    "del sdata.images[\"postXenium_5k_H03.ome\"]\n",
    "\n",
    "# sdata.delete_element_from_disk(\"HE\")\n",
    "# sdata.delete_element_from_disk(\"morphology_focus\")\n",
    "# sdata.delete_element_from_disk(\"PostXenium5k_region2.ome\")"
   ]
  },
  {
   "cell_type": "code",
   "execution_count": 28,
   "id": "20b662b8",
   "metadata": {},
   "outputs": [
    {
     "data": {
      "text/plain": [
       "SpatialData object, with associated Zarr store: /Volumes/ProstateCancerEvo_SpatialAnalysis/dbs/Region_4_Xenium_Phen_HE_Integrated.V1.zarr\n",
       "├── Images\n",
       "│     ├── 'HE_Image': DataTree[cyx] (3, 11074, 24012), (3, 5537, 12006), (3, 2769, 6004), (3, 1385, 3001), (3, 692, 1501), (3, 346, 750)\n",
       "│     ├── 'PhenoCycler_Image': DataTree[cyx] (25, 9920, 22866), (25, 4960, 11433), (25, 2480, 5716), (25, 1240, 2858), (25, 620, 1429)\n",
       "│     └── 'Xenium_Image': DataTree[cyx] (4, 30791, 54044), (4, 15395, 27022), (4, 7697, 13511), (4, 3848, 6755), (4, 1924, 3377)\n",
       "├── Points\n",
       "│     ├── 'XeniumMrks': DataFrame with shape: (<Delayed>, 2) (2D points)\n",
       "│     ├── 'Xenium_Lnmks': DataFrame with shape: (<Delayed>, 2) (2D points)\n",
       "│     └── 'transcripts': DataFrame with shape: (<Delayed>, 13) (3D points)\n",
       "├── Shapes\n",
       "│     ├── 'cell_boundaries': GeoDataFrame shape: (310003, 1) (2D shapes)\n",
       "│     └── 'nucleus_boundaries': GeoDataFrame shape: (296757, 1) (2D shapes)\n",
       "└── Tables\n",
       "      └── 'table': AnnData (310003, 5101)\n",
       "with coordinate systems:\n",
       "    ▸ 'global', with elements:\n",
       "        HE_Image (Images), PhenoCycler_Image (Images), Xenium_Image (Images), XeniumMrks (Points), Xenium_Lnmks (Points), transcripts (Points), cell_boundaries (Shapes), nucleus_boundaries (Shapes)\n",
       "    ▸ 'pixels', with elements:\n",
       "        HE_Image (Images), PhenoCycler_Image (Images)\n",
       "with the following Dask-backed elements not being self-contained:\n",
       "    ▸ HE_Image: /Volumes/ProstateCancerEvo_SpatialAnalysis/dbs/Region_4_Xenium_Phen_HE_Integrated.V1.zarr/images/HE\n",
       "    ▸ Xenium_Image: /Volumes/ProstateCancerEvo_SpatialAnalysis/dbs/Region_4_Xenium_Phen_HE_Integrated.V1.zarr/images/morphology_focus\n",
       "    ▸ PhenoCycler_Image: /Volumes/ProstateCancerEvo_SpatialAnalysis/dbs/Region_4_Xenium_Phen_HE_Integrated.V1.zarr/images/postXenium_5k_H03.ome\n",
       "with the following elements not in the Zarr store:\n",
       "    ▸ PhenoCycler_Image (Images)\n",
       "    ▸ HE_Image (Images)\n",
       "    ▸ Xenium_Image (Images)\n",
       "with the following elements in the Zarr store but not in the SpatialData object:\n",
       "    ▸ postXenium_5k_H03.ome (Images)\n",
       "    ▸ morphology_focus (Images)\n",
       "    ▸ HE (Images)"
      ]
     },
     "execution_count": 28,
     "metadata": {},
     "output_type": "execute_result"
    }
   ],
   "source": [
    "sdata"
   ]
  },
  {
   "cell_type": "markdown",
   "id": "a69024a5",
   "metadata": {},
   "source": [
    "## Aggregation"
   ]
  },
  {
   "cell_type": "code",
   "execution_count": 29,
   "id": "354b1dd9",
   "metadata": {},
   "outputs": [],
   "source": [
    "# COPY STOCK TABLE FOR REGRESSION\n",
    "sdata.tables[\"GeneTranscripts_XStock_Native\"] = sdata.tables[\"table\"]\n",
    "sdata.tables[\"GeneTranscripts_XStockP\"] = sdata.tables[\"table\"]\n",
    "sdata.tables[\"GeneTranscripts_XStock_Backup\"] = sdata.tables[\"table\"]\n",
    "\n",
    "del  sdata.tables[\"table\"]"
   ]
  },
  {
   "cell_type": "code",
   "execution_count": 30,
   "id": "0ce6681b",
   "metadata": {},
   "outputs": [],
   "source": [
    "# GET RECOVERY OF CELL BOUNDARIES\n",
    "sdata.shapes[\"cell_boundaries_Backup\"] = sdata.shapes[\"cell_boundaries\"]"
   ]
  },
  {
   "cell_type": "code",
   "execution_count": 31,
   "id": "c1223432",
   "metadata": {},
   "outputs": [
    {
     "name": "stderr",
     "output_type": "stream",
     "text": [
      "\u001b[36;20m[INFO] (sopa.aggregation.transcripts)\u001b[0m Aggregating transcripts over 310003 cells\n",
      "/Users/ugursahin/miniforge3/envs/SOPA/lib/python3.10/site-packages/anndata/_core/storage.py:48: FutureWarning: AnnData previously had undefined behavior around matrices of type <class 'scipy.sparse._coo.coo_matrix'>.In 0.12, passing in this type will throw an error. Please convert to a supported type.Continue using for this minor version at your own risk.\n",
      "  warnings.warn(msg, FutureWarning)\n"
     ]
    },
    {
     "name": "stdout",
     "output_type": "stream",
     "text": [
      "[########################################] | 100% Completed | 129.98 s\n"
     ]
    },
    {
     "name": "stderr",
     "output_type": "stream",
     "text": [
      "\u001b[36;20m[INFO] (sopa.aggregation.channels)\u001b[0m Aggregating channels intensity over 310003 cells with mode='average'\n"
     ]
    },
    {
     "name": "stdout",
     "output_type": "stream",
     "text": [
      "[########################################] | 100% Completed | 192.19 s\n"
     ]
    },
    {
     "name": "stderr",
     "output_type": "stream",
     "text": [
      "/Users/ugursahin/miniforge3/envs/SOPA/lib/python3.10/site-packages/spatialdata/_core/_elements.py:105: UserWarning: Key `cell_boundaries_Backup` already exists. Overwriting it in-memory.\n",
      "  self._check_key(key, self.keys(), self._shared_keys)\n",
      "\u001b[36;20m[INFO] (sopa.aggregation.channels)\u001b[0m Aggregating channels intensity over 310003 cells with mode='average'\n"
     ]
    },
    {
     "name": "stdout",
     "output_type": "stream",
     "text": [
      "[########################################] | 100% Completed | 118.69 s\n"
     ]
    },
    {
     "name": "stderr",
     "output_type": "stream",
     "text": [
      "/Users/ugursahin/miniforge3/envs/SOPA/lib/python3.10/site-packages/spatialdata/_core/_elements.py:105: UserWarning: Key `cell_boundaries_Backup` already exists. Overwriting it in-memory.\n",
      "  self._check_key(key, self.keys(), self._shared_keys)\n"
     ]
    }
   ],
   "source": [
    "import sopa.aggregation as agg\n",
    "\n",
    "agg.aggregate(\n",
    "    sdata,\n",
    "    image_key=\"Xenium_Image\",\n",
    "    aggregate_genes=True,              \n",
    "    points_key=\"transcripts\",   \n",
    "    shapes_key=\"cell_boundaries_Backup\",\n",
    "    min_intensity_ratio = 0,\n",
    "    key_added=\"GeneTranscripts_XStockC\"\n",
    ")\n",
    "\n",
    "agg.aggregate(\n",
    "    sdata,\n",
    "    aggregate_channels=True,\n",
    "    aggregate_genes = False,\n",
    "    image_key=\"PhenoCycler_Image\",\n",
    "    shapes_key=\"cell_boundaries_Backup\",\n",
    "    min_intensity_ratio = 0,\n",
    "    key_added=\"Proteins_PhenoCycler_byXStock\"              \n",
    ")\n",
    "\n"
   ]
  },
  {
   "cell_type": "code",
   "execution_count": 33,
   "id": "206b765a",
   "metadata": {},
   "outputs": [
    {
     "ename": "KeyError",
     "evalue": "'Xenium_Lnmks'",
     "output_type": "error",
     "traceback": [
      "\u001b[0;31m---------------------------------------------------------------------------\u001b[0m",
      "\u001b[0;31mKeyError\u001b[0m                                  Traceback (most recent call last)",
      "Cell \u001b[0;32mIn[33], line 1\u001b[0m\n\u001b[0;32m----> 1\u001b[0m \u001b[38;5;28;01mdel\u001b[39;00m sdata\u001b[38;5;241m.\u001b[39mpoints[\u001b[38;5;124m\"\u001b[39m\u001b[38;5;124mXenium_Lnmks\u001b[39m\u001b[38;5;124m\"\u001b[39m]\n\u001b[1;32m      2\u001b[0m \u001b[38;5;28;01mdel\u001b[39;00m sdata\u001b[38;5;241m.\u001b[39mpoints[\u001b[38;5;124m\"\u001b[39m\u001b[38;5;124mXeniumMrks\u001b[39m\u001b[38;5;124m\"\u001b[39m]\n",
      "File \u001b[0;32m~/miniforge3/envs/SOPA/lib/python3.10/site-packages/spatialdata/_core/_elements.py:57\u001b[0m, in \u001b[0;36mElements.__delitem__\u001b[0;34m(self, key)\u001b[0m\n\u001b[1;32m     56\u001b[0m \u001b[38;5;28;01mdef\u001b[39;00m\u001b[38;5;250m \u001b[39m\u001b[38;5;21m__delitem__\u001b[39m(\u001b[38;5;28mself\u001b[39m, key: \u001b[38;5;28mstr\u001b[39m) \u001b[38;5;241m-\u001b[39m\u001b[38;5;241m>\u001b[39m \u001b[38;5;28;01mNone\u001b[39;00m:\n\u001b[0;32m---> 57\u001b[0m     \u001b[38;5;28;43mself\u001b[39;49m\u001b[38;5;241;43m.\u001b[39;49m\u001b[43m_remove_shared_key\u001b[49m\u001b[43m(\u001b[49m\u001b[43mkey\u001b[49m\u001b[43m)\u001b[49m\n\u001b[1;32m     58\u001b[0m     \u001b[38;5;28msuper\u001b[39m()\u001b[38;5;241m.\u001b[39m\u001b[38;5;21m__delitem__\u001b[39m(key)\n",
      "File \u001b[0;32m~/miniforge3/envs/SOPA/lib/python3.10/site-packages/spatialdata/_core/_elements.py:38\u001b[0m, in \u001b[0;36mElements._remove_shared_key\u001b[0;34m(self, key)\u001b[0m\n\u001b[1;32m     37\u001b[0m \u001b[38;5;28;01mdef\u001b[39;00m\u001b[38;5;250m \u001b[39m\u001b[38;5;21m_remove_shared_key\u001b[39m(\u001b[38;5;28mself\u001b[39m, key: \u001b[38;5;28mstr\u001b[39m) \u001b[38;5;241m-\u001b[39m\u001b[38;5;241m>\u001b[39m \u001b[38;5;28;01mNone\u001b[39;00m:\n\u001b[0;32m---> 38\u001b[0m     \u001b[38;5;28;43mself\u001b[39;49m\u001b[38;5;241;43m.\u001b[39;49m\u001b[43m_shared_keys\u001b[49m\u001b[38;5;241;43m.\u001b[39;49m\u001b[43mremove\u001b[49m\u001b[43m(\u001b[49m\u001b[43mkey\u001b[49m\u001b[43m)\u001b[49m\n",
      "\u001b[0;31mKeyError\u001b[0m: 'Xenium_Lnmks'"
     ]
    }
   ],
   "source": [
    "del sdata.points[\"Xenium_Lnmks\"]\n",
    "del sdata.points[\"XeniumMrks\"]"
   ]
  },
  {
   "cell_type": "code",
   "execution_count": 34,
   "id": "6a64adc4",
   "metadata": {},
   "outputs": [
    {
     "data": {
      "text/plain": [
       "SpatialData object, with associated Zarr store: /Volumes/ProstateCancerEvo_SpatialAnalysis/dbs/Region_4_Xenium_Phen_HE_Integrated.V1.zarr\n",
       "├── Images\n",
       "│     ├── 'HE_Image': DataTree[cyx] (3, 11074, 24012), (3, 5537, 12006), (3, 2769, 6004), (3, 1385, 3001), (3, 692, 1501), (3, 346, 750)\n",
       "│     ├── 'PhenoCycler_Image': DataTree[cyx] (25, 9920, 22866), (25, 4960, 11433), (25, 2480, 5716), (25, 1240, 2858), (25, 620, 1429)\n",
       "│     └── 'Xenium_Image': DataTree[cyx] (4, 30791, 54044), (4, 15395, 27022), (4, 7697, 13511), (4, 3848, 6755), (4, 1924, 3377)\n",
       "├── Points\n",
       "│     └── 'transcripts': DataFrame with shape: (<Delayed>, 13) (3D points)\n",
       "├── Shapes\n",
       "│     ├── 'cell_boundaries': GeoDataFrame shape: (310003, 1) (2D shapes)\n",
       "│     ├── 'cell_boundaries_Backup': GeoDataFrame shape: (310003, 1) (2D shapes)\n",
       "│     └── 'nucleus_boundaries': GeoDataFrame shape: (296757, 1) (2D shapes)\n",
       "└── Tables\n",
       "      ├── 'GeneTranscripts_XStockC': AnnData (310003, 5100)\n",
       "      ├── 'GeneTranscripts_XStockP': AnnData (310003, 5101)\n",
       "      ├── 'GeneTranscripts_XStock_Backup': AnnData (310003, 5101)\n",
       "      ├── 'GeneTranscripts_XStock_Native': AnnData (310003, 5101)\n",
       "      └── 'Proteins_PhenoCycler_byXStock': AnnData (310003, 25)\n",
       "with coordinate systems:\n",
       "    ▸ 'global', with elements:\n",
       "        HE_Image (Images), PhenoCycler_Image (Images), Xenium_Image (Images), transcripts (Points), cell_boundaries (Shapes), cell_boundaries_Backup (Shapes), nucleus_boundaries (Shapes)\n",
       "    ▸ 'pixels', with elements:\n",
       "        HE_Image (Images), PhenoCycler_Image (Images)\n",
       "with the following Dask-backed elements not being self-contained:\n",
       "    ▸ HE_Image: /Volumes/ProstateCancerEvo_SpatialAnalysis/dbs/Region_4_Xenium_Phen_HE_Integrated.V1.zarr/images/HE\n",
       "    ▸ Xenium_Image: /Volumes/ProstateCancerEvo_SpatialAnalysis/dbs/Region_4_Xenium_Phen_HE_Integrated.V1.zarr/images/morphology_focus\n",
       "    ▸ PhenoCycler_Image: /Volumes/ProstateCancerEvo_SpatialAnalysis/dbs/Region_4_Xenium_Phen_HE_Integrated.V1.zarr/images/postXenium_5k_H03.ome\n",
       "with the following elements not in the Zarr store:\n",
       "    ▸ HE_Image (Images)\n",
       "    ▸ GeneTranscripts_XStock_Native (Tables)\n",
       "    ▸ Xenium_Image (Images)\n",
       "    ▸ PhenoCycler_Image (Images)\n",
       "    ▸ GeneTranscripts_XStockP (Tables)\n",
       "    ▸ GeneTranscripts_XStock_Backup (Tables)\n",
       "with the following elements in the Zarr store but not in the SpatialData object:\n",
       "    ▸ morphology_focus (Images)\n",
       "    ▸ XeniumMrks (Points)\n",
       "    ▸ Xenium_Lnmks (Points)\n",
       "    ▸ postXenium_5k_H03.ome (Images)\n",
       "    ▸ table (Tables)\n",
       "    ▸ HE (Images)"
      ]
     },
     "execution_count": 34,
     "metadata": {},
     "output_type": "execute_result"
    }
   ],
   "source": [
    "sdata"
   ]
  },
  {
   "cell_type": "markdown",
   "id": "d6c9fc6f",
   "metadata": {},
   "source": [
    "## YOU HAVE TO RENAME OF CELL_IDs COMPILED GENETRANSCRIPT AND PROTEIN TABLES IN TERMS OF XENIUM STOCK"
   ]
  },
  {
   "cell_type": "code",
   "execution_count": 36,
   "id": "9d8cc9d7",
   "metadata": {},
   "outputs": [
    {
     "name": "stderr",
     "output_type": "stream",
     "text": [
      "/Users/ugursahin/miniforge3/envs/SOPA/lib/python3.10/site-packages/spatialdata/_core/_elements.py:125: UserWarning: Key `Proteins_PhenoCycler_byXStock` already exists. Overwriting it in-memory.\n",
      "  self._check_key(key, self.keys(), self._shared_keys)\n",
      "/Users/ugursahin/miniforge3/envs/SOPA/lib/python3.10/site-packages/spatialdata/_core/_elements.py:125: UserWarning: Key `GeneTranscripts_XStockC` already exists. Overwriting it in-memory.\n",
      "  self._check_key(key, self.keys(), self._shared_keys)\n"
     ]
    }
   ],
   "source": [
    "adata_stock = sdata.tables[\"GeneTranscripts_XStock_Native\"].copy()\n",
    "\n",
    "for table in [\"Proteins_PhenoCycler_byXStock\", \"GeneTranscripts_XStockC\"]:\n",
    "    adata_ob = sdata.tables[table].copy()\n",
    "    adata_ob.obs[\"cell_id\"] = adata_stock.obs[\"cell_id\"].to_list()\n",
    "    adata_ob.index = adata_stock.obs[\"cell_id\"].index\n",
    "\n",
    "    for feat in [\"region\", \"slide\", \"area\"]:\n",
    "        adata_ob.obs[feat].index = adata_stock.obs[\"cell_id\"].to_list()\n",
    "        \n",
    "    sdata.tables[table] = adata_ob\n",
    "    "
   ]
  },
  {
   "cell_type": "code",
   "execution_count": 37,
   "id": "1a7b0683",
   "metadata": {},
   "outputs": [
    {
     "data": {
      "text/plain": [
       "aaaaaaaa-1    aaaaffof-1\n",
       "aaaaaaab-1    aaaafmmo-1\n",
       "aaaaaaac-1    aaaanlbm-1\n",
       "aaaaaaad-1    aaabddfm-1\n",
       "aaaaaaae-1    aaabfekj-1\n",
       "                 ...    \n",
       "aaaelkoo-1    oipmopmg-1\n",
       "aaaelkop-1    oipmpckf-1\n",
       "aaaelkpa-1    oipnagig-1\n",
       "aaaelkpb-1    oipngokc-1\n",
       "aaaelkpc-1    oipnhfep-1\n",
       "Name: cell_id, Length: 310003, dtype: object"
      ]
     },
     "execution_count": 37,
     "metadata": {},
     "output_type": "execute_result"
    }
   ],
   "source": [
    "sdata.tables[table].obs[\"cell_id\"]"
   ]
  },
  {
   "cell_type": "code",
   "execution_count": 38,
   "id": "5f54956f",
   "metadata": {},
   "outputs": [
    {
     "name": "stdout",
     "output_type": "stream",
     "text": [
      "\u001b[34mINFO    \u001b[0m The SpatialData object is not self-contained \u001b[1m(\u001b[0mi.e. it contains some elements that are Dask-backed from    \n",
      "         locations outside                                                                                         \n",
      "         \u001b[35m/Volumes/ProstateCancerEvo_SpatialAnalysis/dbs/Ongoing/Region4/\u001b[0m\u001b[95mRegion4_Xenium_Phen_HE_Integrated.V2.ongoin\u001b[0m\n",
      "         \u001b[95mg.zarr\u001b[0m\u001b[1m)\u001b[0m. Please see the documentation of `\u001b[1;35mis_self_contained\u001b[0m\u001b[1m(\u001b[0m\u001b[1m)\u001b[0m` to understand the implications of working  \n",
      "         with SpatialData objects that are not self-contained.                                                     \n",
      "\u001b[34mINFO    \u001b[0m The Zarr backing store has been changed from                                                              \n",
      "         \u001b[35m/Volumes/ProstateCancerEvo_SpatialAnalysis/dbs/\u001b[0m\u001b[95mRegion_4_Xenium_Phen_HE_Integrated.V1.zarr\u001b[0m the new file    \n",
      "         path:                                                                                                     \n",
      "         \u001b[35m/Volumes/ProstateCancerEvo_SpatialAnalysis/dbs/Ongoing/Region4/\u001b[0m\u001b[95mRegion4_Xenium_Phen_HE_Integrated.V2.ongoin\u001b[0m\n",
      "         \u001b[95mg.zarr\u001b[0m                                                                                                    \n"
     ]
    }
   ],
   "source": [
    "sdata.write(f\"/Volumes/ProstateCancerEvo_SpatialAnalysis/dbs/Ongoing/Region4/{Tissue}_Xenium_Phen_HE_Integrated.V2.ongoing.zarr\")"
   ]
  },
  {
   "cell_type": "code",
   "execution_count": 40,
   "id": "73a526fb",
   "metadata": {},
   "outputs": [],
   "source": [
    "sdata.tables[\"Proteins_PhenoCycler_byXStock\"].write_h5ad(f\"/Volumes/ProstateCancerEvo_SpatialAnalysis/dbs/Ongoing/Region4/REGION4_TABLES/{Tissue}_Xenium_Phen_HE_Integrated.Protein_PhenCycTable.V1.h5ad\")\n",
    "sdata.tables[\"GeneTranscripts_XStock_Native\"].write_h5ad(f\"/Volumes/ProstateCancerEvo_SpatialAnalysis/dbs/Ongoing/Region4/REGION4_TABLES/{Tissue}_Xenium_Phen_HE_Integrated.GeneTranscripts_XStock_Native.V1.h5ad\")\n",
    "sdata.tables[\"GeneTranscripts_XStock_Backup\"].write_h5ad(f\"/Volumes/ProstateCancerEvo_SpatialAnalysis/dbs/Ongoing/Region4/REGION4_TABLES/{Tissue}_Xenium_Phen_HE_Integrated.GeneTranscripts_XStock_Backup.V1.h5ad\")\n",
    "sdata.tables[\"GeneTranscripts_XStockP\"].write_h5ad(f\"/Volumes/ProstateCancerEvo_SpatialAnalysis/dbs/Ongoing/Region4/REGION4_TABLES/{Tissue}_Xenium_Phen_HE_Integrated.GeneTranscripts_XStock_Process.V1.h5ad\")\n",
    "sdata.tables[\"GeneTranscripts_XStockC\"].write_h5ad(f\"/Volumes/ProstateCancerEvo_SpatialAnalysis/dbs/Ongoing/Region4/REGION4_TABLES/{Tissue}_Xenium_Phen_HE_Integrated.GeneTranscripts_XStock_Calculated.V1.h5ad\")"
   ]
  }
 ],
 "metadata": {
  "kernelspec": {
   "display_name": "SOPA",
   "language": "python",
   "name": "myenv"
  },
  "language_info": {
   "codemirror_mode": {
    "name": "ipython",
    "version": 3
   },
   "file_extension": ".py",
   "mimetype": "text/x-python",
   "name": "python",
   "nbconvert_exporter": "python",
   "pygments_lexer": "ipython3",
   "version": "3.10.14"
  }
 },
 "nbformat": 4,
 "nbformat_minor": 5
}
